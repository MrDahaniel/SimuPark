{
 "cells": [
  {
   "cell_type": "code",
   "execution_count": 2,
   "metadata": {},
   "outputs": [
    {
     "name": "stdout",
     "output_type": "stream",
     "text": [
      "Generating Entry Events...\n",
      "Entry Events Generated\n",
      "\n"
     ]
    },
    {
     "name": "stderr",
     "output_type": "stream",
     "text": [
      "100%|██████████| 960/960 [00:21<00:00, 44.85it/s] \n"
     ]
    },
    {
     "name": "stdout",
     "output_type": "stream",
     "text": [
      "Generating Entry Events...\n",
      "Entry Events Generated\n",
      "\n"
     ]
    },
    {
     "name": "stderr",
     "output_type": "stream",
     "text": [
      "100%|██████████| 960/960 [00:22<00:00, 43.09it/s] \n"
     ]
    },
    {
     "name": "stdout",
     "output_type": "stream",
     "text": [
      "Generating Entry Events...\n",
      "Entry Events Generated\n",
      "\n"
     ]
    },
    {
     "name": "stderr",
     "output_type": "stream",
     "text": [
      "100%|██████████| 960/960 [00:22<00:00, 42.63it/s] \n"
     ]
    },
    {
     "name": "stdout",
     "output_type": "stream",
     "text": [
      "Generating Entry Events...\n",
      "Entry Events Generated\n",
      "\n"
     ]
    },
    {
     "name": "stderr",
     "output_type": "stream",
     "text": [
      "100%|██████████| 960/960 [00:24<00:00, 39.50it/s] \n"
     ]
    },
    {
     "name": "stdout",
     "output_type": "stream",
     "text": [
      "Generating Entry Events...\n",
      "Entry Events Generated\n",
      "\n"
     ]
    },
    {
     "name": "stderr",
     "output_type": "stream",
     "text": [
      "100%|██████████| 960/960 [00:24<00:00, 39.27it/s] "
     ]
    },
    {
     "name": "stdout",
     "output_type": "stream",
     "text": [
      "Generating Entry Events...\n"
     ]
    },
    {
     "name": "stderr",
     "output_type": "stream",
     "text": [
      "\n"
     ]
    },
    {
     "name": "stdout",
     "output_type": "stream",
     "text": [
      "Entry Events Generated\n",
      "\n"
     ]
    },
    {
     "name": "stderr",
     "output_type": "stream",
     "text": [
      "100%|██████████| 960/960 [00:22<00:00, 41.79it/s] \n"
     ]
    },
    {
     "name": "stdout",
     "output_type": "stream",
     "text": [
      "Generating Entry Events...\n",
      "Entry Events Generated\n",
      "\n"
     ]
    },
    {
     "name": "stderr",
     "output_type": "stream",
     "text": [
      "100%|██████████| 960/960 [00:23<00:00, 40.91it/s] \n"
     ]
    }
   ],
   "source": [
    "from simuPark.park import DisneyPark\n",
    "from matplotlib.pyplot import plot, hist, gcf, figure, xlabel, ylabel\n",
    "import numpy as np\n",
    "from scipy.special import gamma, factorial\n",
    "import pandas as pd\n",
    "import scipy.stats as st\n",
    "\n",
    "x = np.linspace(0, 16, 16*60)\n",
    "k = 5\n",
    "fn = lambda x, k:  (((0.631012633902875 * ((x+1) ** 0 ) + 0.141641794969108 * ((x+1) ** 1 ) + 1.08320562754808 * ((x+1) ** 2 ) + -0.386896805430061 * ((x+1) ** 3 ) + 0.0645561077512354 * ((x+1) ** 4 ) + -0.00580069833046977 * ((x+1) ** 5 ) + 0.000263776181717327 * ((x+1) ** 6 ) + -4.72376212119374e-06 * ((x+1) ** 7 ))) / 10)\n",
    "\n",
    "guest_data = []\n",
    "column_name = [\n",
    "    'Archetype',\n",
    "    'arrival_time',\n",
    "    'departure_time',\n",
    "    'time_in_park',\n",
    "    'max_wait',\n",
    "    'attractions_experienced',\n",
    "    'total_wait_time',\n",
    "    'average_wait_time',\n",
    "    ]\n",
    "\n",
    "for i in range(7):\n",
    "\n",
    "    park = DisneyPark(\n",
    "        fn = fn,\n",
    "        fastpass_pool_size=0.3,\n",
    "    )\n",
    "\n",
    "    park.start_day(max_entry_rate=95000/960, wait_time_update=5)\n",
    "\n",
    "    for guest in park.guests:\n",
    "        current_guest = []\n",
    "\n",
    "        current_guest.append(guest.archetype)\n",
    "        current_guest.append(guest.arrival_time)\n",
    "        current_guest.append(guest.departure_time)\n",
    "        current_guest.append(guest.departure_time - guest.arrival_time)\n",
    "        current_guest.append(guest.max_wait)\n",
    "        current_guest.append(guest.attractions_experienced)\n",
    "        current_guest.append(guest.total_wait_time)\n",
    "        if guest.attractions_experienced == 0:\n",
    "            current_guest.append(0)\n",
    "        else: \n",
    "            current_guest.append(guest.total_wait_time / guest.attractions_experienced)\n",
    "\n",
    "        guest_data.append(current_guest)\n",
    "\n",
    "guest_df = pd.DataFrame(guest_data, columns=column_name)\n",
    "guest_df.to_csv(r'./datasets/DFP.csv')\n",
    "\n"
   ]
  },
  {
   "cell_type": "code",
   "execution_count": 2,
   "metadata": {},
   "outputs": [
    {
     "name": "stdout",
     "output_type": "stream",
     "text": [
      "38760\n",
      "['Walk15', 'Walk10', 'ShopGifts', 'EatRestaurant', 'BathroomBreak', 'TakePictures']\n",
      "['DINOSAUR', 'Expedition Everest', 'Flight of Passage', 'Kali River Rapids', 'Kilimanjaro Safaris', \"Na'vi River Journey\", 'TriceraTop Spin']\n",
      "['Tourist', 'Average', 'Activity Enjoyer', 'Attraction Enjoyer', 'All Day Park', 'Relaxed Visitor']\n"
     ]
    },
    {
     "data": {
      "image/png": "[encoded data removed]",
      "text/plain": [
       "<Figure size 1188x684 with 1 Axes>"
      ]
     },
     "metadata": {
      "needs_background": "light"
     },
     "output_type": "display_data"
    }
   ],
   "source": [
    "from matplotlib.pyplot import plot, hist, gcf, figure, xlabel, ylabel\n",
    "import numpy as np\n",
    "from scipy.special import gamma, factorial\n",
    "import pandas as pd\n",
    "\n",
    "print(len(park.guests))\n",
    "\n",
    "y = [guest.arrival_time for guest in park.guests]\n",
    "\n",
    "fig = figure()\n",
    "fig.set_size_inches(16.5, 9.5)\n",
    "hist(y, color=\"#ff725e\", bins=960);\n",
    "fig.suptitle('Llegada de los visitantes al parque', fontsize = 20)\n",
    "xlabel('Tiempo')\n",
    "ylabel('Frecuencia')\n",
    "\n",
    "\n",
    "print([i.name for i in park.activities])\n",
    "print([i.name for i in park.attractions])\n",
    "print([i.name for i in park.guest_archetypes])"
   ]
  },
  {
   "cell_type": "code",
   "execution_count": 11,
   "metadata": {},
   "outputs": [
    {
     "data": {
      "text/html": [
       "<div>\n",
       "<style scoped>\n",
       "    .dataframe tbody tr th:only-of-type {\n",
       "        vertical-align: middle;\n",
       "    }\n",
       "\n",
       "    .dataframe tbody tr th {\n",
       "        vertical-align: top;\n",
       "    }\n",
       "\n",
       "    .dataframe thead th {\n",
       "        text-align: right;\n",
       "    }\n",
       "</style>\n",
       "<table border=\"1\" class=\"dataframe\">\n",
       "  <thead>\n",
       "    <tr style=\"text-align: right;\">\n",
       "      <th></th>\n",
       "      <th>Archetype</th>\n",
       "      <th>arrival_time</th>\n",
       "      <th>departure_time</th>\n",
       "      <th>time_in_park</th>\n",
       "      <th>max_wait</th>\n",
       "      <th>attractions_experienced</th>\n",
       "      <th>fastpass_used</th>\n",
       "      <th>total_wait_time</th>\n",
       "      <th>average_wait_time</th>\n",
       "    </tr>\n",
       "  </thead>\n",
       "  <tbody>\n",
       "    <tr>\n",
       "      <th>0</th>\n",
       "      <td>Relaxed Visitor</td>\n",
       "      <td>1</td>\n",
       "      <td>341</td>\n",
       "      <td>340</td>\n",
       "      <td>25</td>\n",
       "      <td>3</td>\n",
       "      <td>0</td>\n",
       "      <td>26</td>\n",
       "      <td>8.666667</td>\n",
       "    </tr>\n",
       "    <tr>\n",
       "      <th>1</th>\n",
       "      <td>Activity Enjoyer</td>\n",
       "      <td>1</td>\n",
       "      <td>271</td>\n",
       "      <td>270</td>\n",
       "      <td>10</td>\n",
       "      <td>1</td>\n",
       "      <td>0</td>\n",
       "      <td>3</td>\n",
       "      <td>3.000000</td>\n",
       "    </tr>\n",
       "    <tr>\n",
       "      <th>2</th>\n",
       "      <td>Attraction Enjoyer</td>\n",
       "      <td>1</td>\n",
       "      <td>525</td>\n",
       "      <td>524</td>\n",
       "      <td>70</td>\n",
       "      <td>17</td>\n",
       "      <td>2</td>\n",
       "      <td>230</td>\n",
       "      <td>13.529412</td>\n",
       "    </tr>\n",
       "    <tr>\n",
       "      <th>3</th>\n",
       "      <td>Attraction Enjoyer</td>\n",
       "      <td>1</td>\n",
       "      <td>385</td>\n",
       "      <td>384</td>\n",
       "      <td>70</td>\n",
       "      <td>13</td>\n",
       "      <td>1</td>\n",
       "      <td>126</td>\n",
       "      <td>9.692308</td>\n",
       "    </tr>\n",
       "    <tr>\n",
       "      <th>4</th>\n",
       "      <td>Activity Enjoyer</td>\n",
       "      <td>1</td>\n",
       "      <td>226</td>\n",
       "      <td>225</td>\n",
       "      <td>10</td>\n",
       "      <td>3</td>\n",
       "      <td>0</td>\n",
       "      <td>6</td>\n",
       "      <td>2.000000</td>\n",
       "    </tr>\n",
       "    <tr>\n",
       "      <th>...</th>\n",
       "      <td>...</td>\n",
       "      <td>...</td>\n",
       "      <td>...</td>\n",
       "      <td>...</td>\n",
       "      <td>...</td>\n",
       "      <td>...</td>\n",
       "      <td>...</td>\n",
       "      <td>...</td>\n",
       "      <td>...</td>\n",
       "    </tr>\n",
       "    <tr>\n",
       "      <th>38755</th>\n",
       "      <td>All Day Park</td>\n",
       "      <td>945</td>\n",
       "      <td>960</td>\n",
       "      <td>15</td>\n",
       "      <td>40</td>\n",
       "      <td>0</td>\n",
       "      <td>0</td>\n",
       "      <td>6</td>\n",
       "      <td>0.000000</td>\n",
       "    </tr>\n",
       "    <tr>\n",
       "      <th>38756</th>\n",
       "      <td>All Day Park</td>\n",
       "      <td>946</td>\n",
       "      <td>960</td>\n",
       "      <td>14</td>\n",
       "      <td>40</td>\n",
       "      <td>0</td>\n",
       "      <td>0</td>\n",
       "      <td>0</td>\n",
       "      <td>0.000000</td>\n",
       "    </tr>\n",
       "    <tr>\n",
       "      <th>38757</th>\n",
       "      <td>Average</td>\n",
       "      <td>946</td>\n",
       "      <td>960</td>\n",
       "      <td>14</td>\n",
       "      <td>50</td>\n",
       "      <td>0</td>\n",
       "      <td>0</td>\n",
       "      <td>13</td>\n",
       "      <td>0.000000</td>\n",
       "    </tr>\n",
       "    <tr>\n",
       "      <th>38758</th>\n",
       "      <td>All Day Park</td>\n",
       "      <td>946</td>\n",
       "      <td>960</td>\n",
       "      <td>14</td>\n",
       "      <td>40</td>\n",
       "      <td>0</td>\n",
       "      <td>0</td>\n",
       "      <td>13</td>\n",
       "      <td>0.000000</td>\n",
       "    </tr>\n",
       "    <tr>\n",
       "      <th>38759</th>\n",
       "      <td>Relaxed Visitor</td>\n",
       "      <td>946</td>\n",
       "      <td>960</td>\n",
       "      <td>14</td>\n",
       "      <td>25</td>\n",
       "      <td>1</td>\n",
       "      <td>0</td>\n",
       "      <td>9</td>\n",
       "      <td>9.000000</td>\n",
       "    </tr>\n",
       "  </tbody>\n",
       "</table>\n",
       "<p>38760 rows × 9 columns</p>\n",
       "</div>"
      ],
      "text/plain": [
       "                Archetype  arrival_time  departure_time  time_in_park  \\\n",
       "0         Relaxed Visitor             1             341           340   \n",
       "1        Activity Enjoyer             1             271           270   \n",
       "2      Attraction Enjoyer             1             525           524   \n",
       "3      Attraction Enjoyer             1             385           384   \n",
       "4        Activity Enjoyer             1             226           225   \n",
       "...                   ...           ...             ...           ...   \n",
       "38755        All Day Park           945             960            15   \n",
       "38756        All Day Park           946             960            14   \n",
       "38757             Average           946             960            14   \n",
       "38758        All Day Park           946             960            14   \n",
       "38759     Relaxed Visitor           946             960            14   \n",
       "\n",
       "       max_wait  attractions_experienced  fastpass_used  total_wait_time  \\\n",
       "0            25                        3              0               26   \n",
       "1            10                        1              0                3   \n",
       "2            70                       17              2              230   \n",
       "3            70                       13              1              126   \n",
       "4            10                        3              0                6   \n",
       "...         ...                      ...            ...              ...   \n",
       "38755        40                        0              0                6   \n",
       "38756        40                        0              0                0   \n",
       "38757        50                        0              0               13   \n",
       "38758        40                        0              0               13   \n",
       "38759        25                        1              0                9   \n",
       "\n",
       "       average_wait_time  \n",
       "0               8.666667  \n",
       "1               3.000000  \n",
       "2              13.529412  \n",
       "3               9.692308  \n",
       "4               2.000000  \n",
       "...                  ...  \n",
       "38755           0.000000  \n",
       "38756           0.000000  \n",
       "38757           0.000000  \n",
       "38758           0.000000  \n",
       "38759           9.000000  \n",
       "\n",
       "[38760 rows x 9 columns]"
      ]
     },
     "execution_count": 11,
     "metadata": {},
     "output_type": "execute_result"
    }
   ],
   "source": [
    "guest_data = []\n",
    "column_name = [\n",
    "    'Archetype',\n",
    "    'arrival_time',\n",
    "    'departure_time',\n",
    "    'time_in_park',\n",
    "    'max_wait',\n",
    "    'attractions_experienced',\n",
    "    'fastpass_used',\n",
    "    'total_wait_time',\n",
    "    'average_wait_time',\n",
    "    ]\n",
    "\n",
    "for guest in park.guests:\n",
    "    current_guest = []\n",
    "\n",
    "    current_guest.append(guest.archetype)\n",
    "    current_guest.append(guest.arrival_time)\n",
    "    current_guest.append(guest.departure_time)\n",
    "    current_guest.append(guest.departure_time - guest.arrival_time)\n",
    "    current_guest.append(guest.max_wait)\n",
    "    current_guest.append(guest.attractions_experienced)\n",
    "    current_guest.append(guest.fastpass_used)\n",
    "    current_guest.append(guest.total_wait_time)\n",
    "    if guest.attractions_experienced == 0:\n",
    "        current_guest.append(0)\n",
    "    else: \n",
    "        current_guest.append(guest.total_wait_time / guest.attractions_experienced)\n",
    "\n",
    "    guest_data.append(current_guest)\n",
    "\n",
    "guest_df = pd.DataFrame(guest_data, columns=column_name)\n",
    "guest_df.to_csv(r'./datasets/DFP.csv')\n",
    "guest_df"
   ]
  },
  {
   "cell_type": "code",
   "execution_count": 4,
   "metadata": {},
   "outputs": [
    {
     "name": "stdout",
     "output_type": "stream",
     "text": [
      "Atracciones experimentadas promedio: 3.6090299277605777\n",
      "Atracciones experimentadas desviación estandar: 2.8589531284804925\n"
     ]
    },
    {
     "data": {
      "image/png": "[encoded data removed]",
      "text/plain": [
       "<Figure size 1188x684 with 1 Axes>"
      ]
     },
     "metadata": {
      "needs_background": "light"
     },
     "output_type": "display_data"
    }
   ],
   "source": [
    "heights = [0 for _ in range(np.max(guest_df['attractions_experienced'])+1)]\n",
    "labels = [i for i in range(np.max(guest_df['attractions_experienced'])+1)]\n",
    "attrExp = [guest.attractions_experienced for guest in park.guests]\n",
    "\n",
    "for guest in park.guests:\n",
    "    heights[guest.attractions_experienced] += 1\n",
    "\n",
    "fig = figure()\n",
    "fig.set_size_inches(16.5, 9.5)\n",
    "ax = fig.add_axes([0,0,1,1])\n",
    "ax.bar(labels, heights, color=\"#ff725e\");\n",
    "fig.suptitle('Atracciones de los visitantes', fontsize = 20)\n",
    "xlabel('Número de Subidas A Atracciones')\n",
    "ylabel('Densidad')\n",
    "\n",
    "print(f'Atracciones experimentadas promedio: {np.mean(attrExp)}')\n",
    "print(f'Atracciones experimentadas desviación estandar: {np.std(attrExp)}')"
   ]
  },
  {
   "cell_type": "code",
   "execution_count": 5,
   "metadata": {},
   "outputs": [
    {
     "name": "stdout",
     "output_type": "stream",
     "text": [
      "37.39544415748478\n",
      "(37.38795050485449, 37.40293781011508)\n",
      "32465\n",
      "133.0\n"
     ]
    },
    {
     "data": {
      "text/plain": [
       "Text(0, 0.5, 'Densidad')"
      ]
     },
     "execution_count": 5,
     "metadata": {},
     "output_type": "execute_result"
    },
    {
     "data": {
      "image/png": "[encoded data removed]",
      "text/plain": [
       "<Figure size 1188x684 with 1 Axes>"
      ]
     },
     "metadata": {
      "needs_background": "light"
     },
     "output_type": "display_data"
    }
   ],
   "source": [
    "avgWaitTime = []\n",
    "\n",
    "for guest in park.guests:\n",
    "    if guest.attractions_experienced == 0:\n",
    "        continue\n",
    "\n",
    "    avgWaitTime.append(guest.total_wait_time / guest.attractions_experienced)\n",
    "\n",
    "\n",
    "print(np.mean(avgWaitTime))\n",
    "print(st.t.interval(alpha=0.05, df=len(avgWaitTime)-1, loc=np.mean(avgWaitTime), scale=st.sem(avgWaitTime)))\n",
    "print(len(avgWaitTime))\n",
    "print(max(avgWaitTime))\n",
    "\n",
    "fig = figure()\n",
    "fig.set_size_inches(16.5, 9.5)\n",
    "hist(avgWaitTime, color=\"#ff725e\");\n",
    "fig.suptitle('Histograma: Tiempo de espera promedio', fontsize = 20)\n",
    "xlabel('Tiempo')\n",
    "ylabel('Densidad')"
   ]
  },
  {
   "cell_type": "code",
   "execution_count": 6,
   "metadata": {},
   "outputs": [
    {
     "data": {
      "text/html": [
       "<div>\n",
       "<style scoped>\n",
       "    .dataframe tbody tr th:only-of-type {\n",
       "        vertical-align: middle;\n",
       "    }\n",
       "\n",
       "    .dataframe tbody tr th {\n",
       "        vertical-align: top;\n",
       "    }\n",
       "\n",
       "    .dataframe thead th {\n",
       "        text-align: right;\n",
       "    }\n",
       "</style>\n",
       "<table border=\"1\" class=\"dataframe\">\n",
       "  <thead>\n",
       "    <tr style=\"text-align: right;\">\n",
       "      <th></th>\n",
       "      <th>Name</th>\n",
       "      <th>MaximunWaitTime</th>\n",
       "    </tr>\n",
       "  </thead>\n",
       "  <tbody>\n",
       "    <tr>\n",
       "      <th>0</th>\n",
       "      <td>DINOSAUR</td>\n",
       "      <td>30</td>\n",
       "    </tr>\n",
       "    <tr>\n",
       "      <th>1</th>\n",
       "      <td>Expedition Everest</td>\n",
       "      <td>20</td>\n",
       "    </tr>\n",
       "    <tr>\n",
       "      <th>2</th>\n",
       "      <td>Flight of Passage</td>\n",
       "      <td>50</td>\n",
       "    </tr>\n",
       "    <tr>\n",
       "      <th>3</th>\n",
       "      <td>Kali River Rapids</td>\n",
       "      <td>10</td>\n",
       "    </tr>\n",
       "    <tr>\n",
       "      <th>4</th>\n",
       "      <td>Kilimanjaro Safaris</td>\n",
       "      <td>30</td>\n",
       "    </tr>\n",
       "    <tr>\n",
       "      <th>5</th>\n",
       "      <td>Na'vi River Journey</td>\n",
       "      <td>40</td>\n",
       "    </tr>\n",
       "    <tr>\n",
       "      <th>6</th>\n",
       "      <td>TriceraTop Spin</td>\n",
       "      <td>0</td>\n",
       "    </tr>\n",
       "  </tbody>\n",
       "</table>\n",
       "</div>"
      ],
      "text/plain": [
       "                  Name  MaximunWaitTime\n",
       "0             DINOSAUR               30\n",
       "1   Expedition Everest               20\n",
       "2    Flight of Passage               50\n",
       "3    Kali River Rapids               10\n",
       "4  Kilimanjaro Safaris               30\n",
       "5  Na'vi River Journey               40\n",
       "6      TriceraTop Spin                0"
      ]
     },
     "execution_count": 6,
     "metadata": {},
     "output_type": "execute_result"
    }
   ],
   "source": [
    "attr_wait_time = [[attr.name, attr.queue.top_wait_time] for attr in park.attractions]\n",
    "attr_df = pd.DataFrame(attr_wait_time, columns=[\"Name\", \"MaximunWaitTime\"])\n",
    "attr_df"
   ]
  },
  {
   "cell_type": "code",
   "execution_count": 7,
   "metadata": {},
   "outputs": [
    {
     "data": {
      "text/html": [
       "<div>\n",
       "<style scoped>\n",
       "    .dataframe tbody tr th:only-of-type {\n",
       "        vertical-align: middle;\n",
       "    }\n",
       "\n",
       "    .dataframe tbody tr th {\n",
       "        vertical-align: top;\n",
       "    }\n",
       "\n",
       "    .dataframe thead th {\n",
       "        text-align: right;\n",
       "    }\n",
       "</style>\n",
       "<table border=\"1\" class=\"dataframe\">\n",
       "  <thead>\n",
       "    <tr style=\"text-align: right;\">\n",
       "      <th></th>\n",
       "      <th>Name</th>\n",
       "      <th>MaximunWaitTime</th>\n",
       "    </tr>\n",
       "  </thead>\n",
       "  <tbody>\n",
       "    <tr>\n",
       "      <th>0</th>\n",
       "      <td>DINOSAUR</td>\n",
       "      <td>0</td>\n",
       "    </tr>\n",
       "    <tr>\n",
       "      <th>1</th>\n",
       "      <td>Expedition Everest</td>\n",
       "      <td>0</td>\n",
       "    </tr>\n",
       "    <tr>\n",
       "      <th>2</th>\n",
       "      <td>Flight of Passage</td>\n",
       "      <td>0</td>\n",
       "    </tr>\n",
       "    <tr>\n",
       "      <th>3</th>\n",
       "      <td>Kali River Rapids</td>\n",
       "      <td>0</td>\n",
       "    </tr>\n",
       "    <tr>\n",
       "      <th>4</th>\n",
       "      <td>Kilimanjaro Safaris</td>\n",
       "      <td>0</td>\n",
       "    </tr>\n",
       "    <tr>\n",
       "      <th>5</th>\n",
       "      <td>Na'vi River Journey</td>\n",
       "      <td>0</td>\n",
       "    </tr>\n",
       "    <tr>\n",
       "      <th>6</th>\n",
       "      <td>TriceraTop Spin</td>\n",
       "      <td>0</td>\n",
       "    </tr>\n",
       "  </tbody>\n",
       "</table>\n",
       "</div>"
      ],
      "text/plain": [
       "                  Name  MaximunWaitTime\n",
       "0             DINOSAUR                0\n",
       "1   Expedition Everest                0\n",
       "2    Flight of Passage                0\n",
       "3    Kali River Rapids                0\n",
       "4  Kilimanjaro Safaris                0\n",
       "5  Na'vi River Journey                0\n",
       "6      TriceraTop Spin                0"
      ]
     },
     "execution_count": 7,
     "metadata": {},
     "output_type": "execute_result"
    }
   ],
   "source": [
    "attr_alt_wait_time = [[attr.name, attr.alt_queue.top_wait_time] for attr in park.attractions]\n",
    "attr_df_alt = pd.DataFrame(attr_alt_wait_time, columns=[\"Name\", \"MaximunWaitTime\"])\n",
    "attr_df_alt"
   ]
  },
  {
   "cell_type": "code",
   "execution_count": 8,
   "metadata": {},
   "outputs": [
    {
     "name": "stdout",
     "output_type": "stream",
     "text": [
      "id: 343  arvTime: 19 things_done: ['Flight of Passage', 'DINOSAUR', 'Flight of Passage', 'Kali River Rapids', \"Na'vi River Journey\", 'Kilimanjaro Safaris', 'DINOSAUR', 'Expedition Everest', 'Expedition Everest', 'Kali River Rapids', \"Na'vi River Journey\", 'Kilimanjaro Safaris', 'Flight of Passage', 'Expedition Everest', 'Kilimanjaro Safaris', 'Kali River Rapids', 'Kilimanjaro Safaris', 'Kali River Rapids', 'DINOSAUR', \"Na'vi River Journey\"] attrExp: 20\n",
      "queues_joined: 20 total_wait_time: 217 archetype: Attraction Enjoyer\n"
     ]
    }
   ],
   "source": [
    "[guest for guest in park.guests if guest.attractions_experienced != 0 and guest.attractions_experienced == max(labels)][0].report()\n",
    "\n"
   ]
  },
  {
   "cell_type": "code",
   "execution_count": 9,
   "metadata": {},
   "outputs": [
    {
     "name": "stdout",
     "output_type": "stream",
     "text": [
      "id: 32670  arvTime: 626 things_done: ['DINOSAUR'] attrExp: 1\n",
      "queues_joined: 2 total_wait_time: 133 archetype: Average\n"
     ]
    },
    {
     "data": {
      "text/plain": [
       "1429"
      ]
     },
     "execution_count": 9,
     "metadata": {},
     "output_type": "execute_result"
    }
   ],
   "source": [
    "[guest for guest in park.guests if guest.attractions_experienced != 0 and guest.total_wait_time / guest.attractions_experienced == max(avgWaitTime)][0].report()\n",
    "\n",
    "park.attractions[0].queue.max_in_queue\n"
   ]
  },
  {
   "cell_type": "code",
   "execution_count": 10,
   "metadata": {},
   "outputs": [
    {
     "data": {
      "text/plain": [
       "6295"
      ]
     },
     "execution_count": 10,
     "metadata": {},
     "output_type": "execute_result"
    }
   ],
   "source": [
    "len([guest for guest in park.guests if guest.attractions_experienced == 0])"
   ]
  }
 ],
 "metadata": {
  "interpreter": {
   "hash": "3bea5e62536b457a2c0e293db0957b2f3e7b164e736797e6da376d1c1af548df"
  },
  "kernelspec": {
   "display_name": "Python 3.9.1 ('base')",
   "language": "python",
   "name": "python3"
  },
  "language_info": {
   "codemirror_mode": {
    "name": "ipython",
    "version": 3
   },
   "file_extension": ".py",
   "mimetype": "text/x-python",
   "name": "python",
   "nbconvert_exporter": "python",
   "pygments_lexer": "ipython3",
   "version": "3.9.1"
  },
  "orig_nbformat": 4
 },
 "nbformat": 4,
 "nbformat_minor": 2
}
