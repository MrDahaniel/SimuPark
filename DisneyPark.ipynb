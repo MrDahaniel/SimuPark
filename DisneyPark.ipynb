{
 "cells": [
  {
   "cell_type": "code",
   "execution_count": 8,
   "metadata": {},
   "outputs": [
    {
     "name": "stdout",
     "output_type": "stream",
     "text": [
      "Generating Entry Events...\n",
      "Entry Events Generated\n",
      "\n"
     ]
    },
    {
     "name": "stderr",
     "output_type": "stream",
     "text": [
      "100%|██████████| 960/960 [00:31<00:00, 30.20it/s] \n"
     ]
    }
   ],
   "source": [
    "from simuPark.park import DisneyPark\n",
    "from matplotlib.pyplot import plot, hist, gcf, figure, xlabel, ylabel\n",
    "import numpy as np\n",
    "from scipy.special import gamma, factorial\n",
    "import pandas as pd\n",
    "\n",
    "x = np.linspace(0, 16, 16*60)\n",
    "k = 5\n",
    "fn = lambda x, k:  (0.374974200206538 + 1.18610051004199 * ((x+0.5) ** 1 ) + 0.328707107843164 * ((x+0.5) ** 2 ) + -0.104475271890136 * ((x+0.5) ** 3 ) + 0.00811912062395833 * ((x+0.5) ** 4 ) + -0.00019811264586807 * ((x+0.5) ** 5 )) / 10\n",
    "\n",
    "park = DisneyPark(\n",
    "    fn = fn\n",
    ")\n",
    "park.start_day(max_entry_rate=150)"
   ]
  },
  {
   "cell_type": "code",
   "execution_count": 9,
   "metadata": {},
   "outputs": [
    {
     "name": "stdout",
     "output_type": "stream",
     "text": [
      "38886\n",
      "['Walk15', 'Walk10', 'ShopGifts', 'EatRestaurant', 'BathroomBreak', 'TakePictures']\n",
      "['Dropper', 'Tornado', 'BumpCars', 'SlowRiver', 'StarWarsRide', 'SpaceMountain']\n",
      "['Tourist']\n"
     ]
    },
    {
     "data": {
      "image/png": "[encoded data removed]",
      "text/plain": [
       "<Figure size 1044x612 with 1 Axes>"
      ]
     },
     "metadata": {
      "needs_background": "light"
     },
     "output_type": "display_data"
    }
   ],
   "source": [
    "from matplotlib.pyplot import plot, hist, gcf, figure, xlabel, ylabel\n",
    "import numpy as np\n",
    "from scipy.special import gamma, factorial\n",
    "import pandas as pd\n",
    "\n",
    "print(len(park.guests))\n",
    "\n",
    "y = [guest.arrival_time for guest in park.guests]\n",
    "\n",
    "fig = figure()\n",
    "fig.set_size_inches(14.5, 8.5)\n",
    "hist(y, color=\"#ff725e\", bins=960);\n",
    "fig.suptitle('Llegada de los visitantes al parque', fontsize = 20)\n",
    "xlabel('Tiempo')\n",
    "ylabel('Frecuencia')\n",
    "\n",
    "\n",
    "print([i.name for i in park.activities])\n",
    "print([i.name for i in park.attractions])\n",
    "print([i.name for i in park.guest_archetypes])"
   ]
  },
  {
   "cell_type": "code",
   "execution_count": 19,
   "metadata": {},
   "outputs": [
    {
     "data": {
      "text/html": [
       "<div>\n",
       "<style scoped>\n",
       "    .dataframe tbody tr th:only-of-type {\n",
       "        vertical-align: middle;\n",
       "    }\n",
       "\n",
       "    .dataframe tbody tr th {\n",
       "        vertical-align: top;\n",
       "    }\n",
       "\n",
       "    .dataframe thead th {\n",
       "        text-align: right;\n",
       "    }\n",
       "</style>\n",
       "<table border=\"1\" class=\"dataframe\">\n",
       "  <thead>\n",
       "    <tr style=\"text-align: right;\">\n",
       "      <th></th>\n",
       "      <th>Archetype</th>\n",
       "      <th>arrival_time</th>\n",
       "      <th>departure_time</th>\n",
       "      <th>time_in_park</th>\n",
       "      <th>max_wait</th>\n",
       "      <th>attractions_experienced</th>\n",
       "      <th>fastpass_used</th>\n",
       "      <th>total_wait_time</th>\n",
       "      <th>average_wait_time</th>\n",
       "    </tr>\n",
       "  </thead>\n",
       "  <tbody>\n",
       "    <tr>\n",
       "      <th>0</th>\n",
       "      <td>Tourist</td>\n",
       "      <td>1</td>\n",
       "      <td>327</td>\n",
       "      <td>326</td>\n",
       "      <td>100</td>\n",
       "      <td>14</td>\n",
       "      <td>1</td>\n",
       "      <td>147</td>\n",
       "      <td>10.500000</td>\n",
       "    </tr>\n",
       "    <tr>\n",
       "      <th>1</th>\n",
       "      <td>Tourist</td>\n",
       "      <td>1</td>\n",
       "      <td>390</td>\n",
       "      <td>389</td>\n",
       "      <td>95</td>\n",
       "      <td>7</td>\n",
       "      <td>1</td>\n",
       "      <td>198</td>\n",
       "      <td>28.285714</td>\n",
       "    </tr>\n",
       "    <tr>\n",
       "      <th>2</th>\n",
       "      <td>Tourist</td>\n",
       "      <td>1</td>\n",
       "      <td>305</td>\n",
       "      <td>304</td>\n",
       "      <td>82</td>\n",
       "      <td>3</td>\n",
       "      <td>1</td>\n",
       "      <td>23</td>\n",
       "      <td>7.666667</td>\n",
       "    </tr>\n",
       "    <tr>\n",
       "      <th>3</th>\n",
       "      <td>Tourist</td>\n",
       "      <td>1</td>\n",
       "      <td>449</td>\n",
       "      <td>448</td>\n",
       "      <td>119</td>\n",
       "      <td>7</td>\n",
       "      <td>0</td>\n",
       "      <td>251</td>\n",
       "      <td>35.857143</td>\n",
       "    </tr>\n",
       "    <tr>\n",
       "      <th>4</th>\n",
       "      <td>Tourist</td>\n",
       "      <td>1</td>\n",
       "      <td>583</td>\n",
       "      <td>582</td>\n",
       "      <td>83</td>\n",
       "      <td>5</td>\n",
       "      <td>1</td>\n",
       "      <td>108</td>\n",
       "      <td>21.600000</td>\n",
       "    </tr>\n",
       "    <tr>\n",
       "      <th>...</th>\n",
       "      <td>...</td>\n",
       "      <td>...</td>\n",
       "      <td>...</td>\n",
       "      <td>...</td>\n",
       "      <td>...</td>\n",
       "      <td>...</td>\n",
       "      <td>...</td>\n",
       "      <td>...</td>\n",
       "      <td>...</td>\n",
       "    </tr>\n",
       "    <tr>\n",
       "      <th>38881</th>\n",
       "      <td>Tourist</td>\n",
       "      <td>907</td>\n",
       "      <td>960</td>\n",
       "      <td>53</td>\n",
       "      <td>76</td>\n",
       "      <td>0</td>\n",
       "      <td>0</td>\n",
       "      <td>0</td>\n",
       "      <td>0.000000</td>\n",
       "    </tr>\n",
       "    <tr>\n",
       "      <th>38882</th>\n",
       "      <td>Tourist</td>\n",
       "      <td>908</td>\n",
       "      <td>960</td>\n",
       "      <td>52</td>\n",
       "      <td>39</td>\n",
       "      <td>0</td>\n",
       "      <td>0</td>\n",
       "      <td>0</td>\n",
       "      <td>0.000000</td>\n",
       "    </tr>\n",
       "    <tr>\n",
       "      <th>38883</th>\n",
       "      <td>Tourist</td>\n",
       "      <td>909</td>\n",
       "      <td>960</td>\n",
       "      <td>51</td>\n",
       "      <td>112</td>\n",
       "      <td>0</td>\n",
       "      <td>0</td>\n",
       "      <td>0</td>\n",
       "      <td>0.000000</td>\n",
       "    </tr>\n",
       "    <tr>\n",
       "      <th>38884</th>\n",
       "      <td>Tourist</td>\n",
       "      <td>910</td>\n",
       "      <td>960</td>\n",
       "      <td>50</td>\n",
       "      <td>116</td>\n",
       "      <td>0</td>\n",
       "      <td>0</td>\n",
       "      <td>0</td>\n",
       "      <td>0.000000</td>\n",
       "    </tr>\n",
       "    <tr>\n",
       "      <th>38885</th>\n",
       "      <td>Tourist</td>\n",
       "      <td>910</td>\n",
       "      <td>960</td>\n",
       "      <td>50</td>\n",
       "      <td>83</td>\n",
       "      <td>1</td>\n",
       "      <td>0</td>\n",
       "      <td>34</td>\n",
       "      <td>34.000000</td>\n",
       "    </tr>\n",
       "  </tbody>\n",
       "</table>\n",
       "<p>38886 rows × 9 columns</p>\n",
       "</div>"
      ],
      "text/plain": [
       "      Archetype  arrival_time  departure_time  time_in_park  max_wait  \\\n",
       "0       Tourist             1             327           326       100   \n",
       "1       Tourist             1             390           389        95   \n",
       "2       Tourist             1             305           304        82   \n",
       "3       Tourist             1             449           448       119   \n",
       "4       Tourist             1             583           582        83   \n",
       "...         ...           ...             ...           ...       ...   \n",
       "38881   Tourist           907             960            53        76   \n",
       "38882   Tourist           908             960            52        39   \n",
       "38883   Tourist           909             960            51       112   \n",
       "38884   Tourist           910             960            50       116   \n",
       "38885   Tourist           910             960            50        83   \n",
       "\n",
       "       attractions_experienced  fastpass_used  total_wait_time  \\\n",
       "0                           14              1              147   \n",
       "1                            7              1              198   \n",
       "2                            3              1               23   \n",
       "3                            7              0              251   \n",
       "4                            5              1              108   \n",
       "...                        ...            ...              ...   \n",
       "38881                        0              0                0   \n",
       "38882                        0              0                0   \n",
       "38883                        0              0                0   \n",
       "38884                        0              0                0   \n",
       "38885                        1              0               34   \n",
       "\n",
       "       average_wait_time  \n",
       "0              10.500000  \n",
       "1              28.285714  \n",
       "2               7.666667  \n",
       "3              35.857143  \n",
       "4              21.600000  \n",
       "...                  ...  \n",
       "38881           0.000000  \n",
       "38882           0.000000  \n",
       "38883           0.000000  \n",
       "38884           0.000000  \n",
       "38885          34.000000  \n",
       "\n",
       "[38886 rows x 9 columns]"
      ]
     },
     "execution_count": 19,
     "metadata": {},
     "output_type": "execute_result"
    }
   ],
   "source": [
    "guest_data = []\n",
    "column_name = [\n",
    "    'Archetype',\n",
    "    'arrival_time',\n",
    "    'departure_time',\n",
    "    'time_in_park',\n",
    "    'max_wait',\n",
    "    'attractions_experienced',\n",
    "    'fastpass_used',\n",
    "    'total_wait_time',\n",
    "    'average_wait_time',\n",
    "    ]\n",
    "\n",
    "for guest in park.guests:\n",
    "    current_guest = []\n",
    "\n",
    "    current_guest.append(guest.archetype)\n",
    "    current_guest.append(guest.arrival_time)\n",
    "    current_guest.append(guest.departure_time)\n",
    "    current_guest.append(guest.departure_time - guest.arrival_time)\n",
    "    current_guest.append(guest.max_wait)\n",
    "    current_guest.append(guest.attractions_experienced)\n",
    "    current_guest.append(guest.fastpass_used)\n",
    "    current_guest.append(guest.total_wait_time)\n",
    "    if guest.attractions_experienced == 0:\n",
    "        current_guest.append(0)\n",
    "    else: \n",
    "        current_guest.append(guest.total_wait_time / guest.attractions_experienced)\n",
    "\n",
    "    guest_data.append(current_guest)\n",
    "\n",
    "guest_df = pd.DataFrame(guest_data, columns=column_name)\n",
    "# guest_df.to_csv(r'./datasets/DFP.csv')\n",
    "guest_df"
   ]
  },
  {
   "cell_type": "code",
   "execution_count": 21,
   "metadata": {},
   "outputs": [
    {
     "name": "stdout",
     "output_type": "stream",
     "text": [
      "Atracciones experimentadas promedio: 2.455176670266934\n",
      "Atracciones experimentadas desviación estandar: 2.2266254164451587\n"
     ]
    },
    {
     "data": {
      "image/png": "[encoded data removed]",
      "text/plain": [
       "<Figure size 1044x612 with 1 Axes>"
      ]
     },
     "metadata": {
      "needs_background": "light"
     },
     "output_type": "display_data"
    }
   ],
   "source": [
    "heights = [0 for _ in range(np.max(guest_df['attractions_experienced'])+1)]\n",
    "labels = [i for i in range(np.max(guest_df['attractions_experienced'])+1)]\n",
    "attrExp = [guest.attractions_experienced for guest in park.guests]\n",
    "\n",
    "\n",
    "for guest in park.guests:\n",
    "    heights[guest.attractions_experienced] += 1\n",
    "\n",
    "fig = figure()\n",
    "fig.set_size_inches(14.5, 8.5)\n",
    "ax = fig.add_axes([0,0,1,1])\n",
    "ax.bar(labels, heights, color=\"#ff725e\");\n",
    "fig.suptitle('Histograma: Atracciones de los visitantes', fontsize = 20)\n",
    "xlabel('Número de Atracciones')\n",
    "ylabel('Densidad')\n",
    "\n",
    "print(f'Atracciones experimentadas promedio: {np.mean(attrExp)}')\n",
    "print(f'Atracciones experimentadas desviación estandar: {np.std(attrExp)}')"
   ]
  },
  {
   "cell_type": "code",
   "execution_count": 12,
   "metadata": {},
   "outputs": [
    {
     "name": "stdout",
     "output_type": "stream",
     "text": [
      "45.90562366573977\n"
     ]
    },
    {
     "data": {
      "text/plain": [
       "Text(0, 0.5, 'Densidad')"
      ]
     },
     "execution_count": 12,
     "metadata": {},
     "output_type": "execute_result"
    },
    {
     "data": {
      "image/png": "[encoded data removed]",
      "text/plain": [
       "<Figure size 1044x612 with 1 Axes>"
      ]
     },
     "metadata": {
      "needs_background": "light"
     },
     "output_type": "display_data"
    }
   ],
   "source": [
    "avgWaitTime = []\n",
    "\n",
    "for guest in park.guests:\n",
    "    if guest.attractions_experienced == 0:\n",
    "        continue\n",
    "\n",
    "    avgWaitTime.append(guest.total_wait_time / guest.attractions_experienced)\n",
    "\n",
    "print(np.mean(avgWaitTime))\n",
    "\n",
    "fig = figure()\n",
    "fig.set_size_inches(14.5, 8.5)\n",
    "hist(avgWaitTime, density=True, color=\"#ff725e\");\n",
    "fig.suptitle('Histograma: Tiempo de espera promedio', fontsize = 20)\n",
    "xlabel('Tiempo')\n",
    "ylabel('Densidad')"
   ]
  },
  {
   "cell_type": "code",
   "execution_count": 13,
   "metadata": {},
   "outputs": [
    {
     "data": {
      "text/html": [
       "<div>\n",
       "<style scoped>\n",
       "    .dataframe tbody tr th:only-of-type {\n",
       "        vertical-align: middle;\n",
       "    }\n",
       "\n",
       "    .dataframe tbody tr th {\n",
       "        vertical-align: top;\n",
       "    }\n",
       "\n",
       "    .dataframe thead th {\n",
       "        text-align: right;\n",
       "    }\n",
       "</style>\n",
       "<table border=\"1\" class=\"dataframe\">\n",
       "  <thead>\n",
       "    <tr style=\"text-align: right;\">\n",
       "      <th></th>\n",
       "      <th>Name</th>\n",
       "      <th>MaximunWaitTime</th>\n",
       "    </tr>\n",
       "  </thead>\n",
       "  <tbody>\n",
       "    <tr>\n",
       "      <th>0</th>\n",
       "      <td>Dropper</td>\n",
       "      <td>30</td>\n",
       "    </tr>\n",
       "    <tr>\n",
       "      <th>1</th>\n",
       "      <td>Tornado</td>\n",
       "      <td>30</td>\n",
       "    </tr>\n",
       "    <tr>\n",
       "      <th>2</th>\n",
       "      <td>BumpCars</td>\n",
       "      <td>35</td>\n",
       "    </tr>\n",
       "    <tr>\n",
       "      <th>3</th>\n",
       "      <td>SlowRiver</td>\n",
       "      <td>35</td>\n",
       "    </tr>\n",
       "    <tr>\n",
       "      <th>4</th>\n",
       "      <td>StarWarsRide</td>\n",
       "      <td>35</td>\n",
       "    </tr>\n",
       "    <tr>\n",
       "      <th>5</th>\n",
       "      <td>SpaceMountain</td>\n",
       "      <td>35</td>\n",
       "    </tr>\n",
       "  </tbody>\n",
       "</table>\n",
       "</div>"
      ],
      "text/plain": [
       "            Name  MaximunWaitTime\n",
       "0        Dropper               30\n",
       "1        Tornado               30\n",
       "2       BumpCars               35\n",
       "3      SlowRiver               35\n",
       "4   StarWarsRide               35\n",
       "5  SpaceMountain               35"
      ]
     },
     "execution_count": 13,
     "metadata": {},
     "output_type": "execute_result"
    }
   ],
   "source": [
    "attr_wait_time = [[attr.name, attr.queue.top_wait_time] for attr in park.attractions]\n",
    "attr_df = pd.DataFrame(attr_wait_time, columns=[\"Name\", \"MaximunWaitTime\"])\n",
    "attr_df"
   ]
  },
  {
   "cell_type": "code",
   "execution_count": 14,
   "metadata": {},
   "outputs": [
    {
     "data": {
      "text/plain": [
       "0"
      ]
     },
     "execution_count": 14,
     "metadata": {},
     "output_type": "execute_result"
    }
   ],
   "source": [
    "park.attractions[2].alt_queue.wait_time"
   ]
  }
 ],
 "metadata": {
  "interpreter": {
   "hash": "3bea5e62536b457a2c0e293db0957b2f3e7b164e736797e6da376d1c1af548df"
  },
  "kernelspec": {
   "display_name": "Python 3.9.1 ('base')",
   "language": "python",
   "name": "python3"
  },
  "language_info": {
   "codemirror_mode": {
    "name": "ipython",
    "version": 3
   },
   "file_extension": ".py",
   "mimetype": "text/x-python",
   "name": "python",
   "nbconvert_exporter": "python",
   "pygments_lexer": "ipython3",
   "version": "3.9.1"
  },
  "orig_nbformat": 4
 },
 "nbformat": 4,
 "nbformat_minor": 2
}
