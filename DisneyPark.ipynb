{
 "cells": [
  {
   "cell_type": "code",
   "execution_count": 12,
   "metadata": {},
   "outputs": [
    {
     "name": "stdout",
     "output_type": "stream",
     "text": [
      "Generating Entry Events...\n",
      "Entry Events Generated\n",
      "\n"
     ]
    },
    {
     "name": "stderr",
     "output_type": "stream",
     "text": [
      "100%|██████████| 960/960 [00:19<00:00, 48.87it/s] \n"
     ]
    }
   ],
   "source": [
    "from simuPark.park import DisneyPark\n",
    "from matplotlib.pyplot import plot, hist, gcf, figure, xlabel, ylabel\n",
    "import numpy as np\n",
    "from scipy.special import gamma, factorial\n",
    "import pandas as pd\n",
    "import scipy.stats as st\n",
    "\n",
    "x = np.linspace(0, 16, 16*60)\n",
    "k = 5\n",
    "fn = lambda x, k:  (((0.631012633902875 * ((x+1) ** 0 ) + 0.141641794969108 * ((x+1) ** 1 ) + 1.08320562754808 * ((x+1) ** 2 ) + -0.386896805430061 * ((x+1) ** 3 ) + 0.0645561077512354 * ((x+1) ** 4 ) + -0.00580069833046977 * ((x+1) ** 5 ) + 0.000263776181717327 * ((x+1) ** 6 ) + -4.72376212119374e-06 * ((x+1) ** 7 ))) / 10)\n",
    "\n",
    "park = DisneyPark(\n",
    "    fn = fn,\n",
    "    fastpass_pool_size=0.3,\n",
    "\n",
    ")\n",
    "park.start_day(max_entry_rate=95000/960, wait_time_update=5)"
   ]
  },
  {
   "cell_type": "code",
   "execution_count": 13,
   "metadata": {},
   "outputs": [
    {
     "name": "stdout",
     "output_type": "stream",
     "text": [
      "38984\n",
      "['Walk15', 'Walk10', 'ShopGifts', 'EatRestaurant', 'BathroomBreak', 'TakePictures']\n",
      "['DINOSAUR', 'Expedition Everest', 'Flight of Passage', 'Kali River Rapids', 'Kilimanjaro Safaris', \"Na'vi River Journey\", 'TriceraTop Spin']\n",
      "['Tourist', 'Average', 'Activity Enjoyer', 'Attraction Enjoyer', 'All Day Park', 'Relaxed Visitor']\n"
     ]
    },
    {
     "data": {
      "image/png": "[encoded data removed]",
      "text/plain": [
       "<Figure size 1188x684 with 1 Axes>"
      ]
     },
     "metadata": {
      "needs_background": "light"
     },
     "output_type": "display_data"
    }
   ],
   "source": [
    "from matplotlib.pyplot import plot, hist, gcf, figure, xlabel, ylabel\n",
    "import numpy as np\n",
    "from scipy.special import gamma, factorial\n",
    "import pandas as pd\n",
    "\n",
    "print(len(park.guests))\n",
    "\n",
    "y = [guest.arrival_time for guest in park.guests]\n",
    "\n",
    "fig = figure()\n",
    "fig.set_size_inches(16.5, 9.5)\n",
    "hist(y, color=\"#ff725e\", bins=960);\n",
    "fig.suptitle('Llegada de los visitantes al parque', fontsize = 20)\n",
    "xlabel('Tiempo')\n",
    "ylabel('Frecuencia')\n",
    "\n",
    "\n",
    "print([i.name for i in park.activities])\n",
    "print([i.name for i in park.attractions])\n",
    "print([i.name for i in park.guest_archetypes])"
   ]
  },
  {
   "cell_type": "code",
   "execution_count": 14,
   "metadata": {},
   "outputs": [
    {
     "data": {
      "text/html": [
       "<div>\n",
       "<style scoped>\n",
       "    .dataframe tbody tr th:only-of-type {\n",
       "        vertical-align: middle;\n",
       "    }\n",
       "\n",
       "    .dataframe tbody tr th {\n",
       "        vertical-align: top;\n",
       "    }\n",
       "\n",
       "    .dataframe thead th {\n",
       "        text-align: right;\n",
       "    }\n",
       "</style>\n",
       "<table border=\"1\" class=\"dataframe\">\n",
       "  <thead>\n",
       "    <tr style=\"text-align: right;\">\n",
       "      <th></th>\n",
       "      <th>Archetype</th>\n",
       "      <th>arrival_time</th>\n",
       "      <th>departure_time</th>\n",
       "      <th>time_in_park</th>\n",
       "      <th>max_wait</th>\n",
       "      <th>attractions_experienced</th>\n",
       "      <th>fastpass_used</th>\n",
       "      <th>total_wait_time</th>\n",
       "      <th>average_wait_time</th>\n",
       "    </tr>\n",
       "  </thead>\n",
       "  <tbody>\n",
       "    <tr>\n",
       "      <th>0</th>\n",
       "      <td>Attraction Enjoyer</td>\n",
       "      <td>1</td>\n",
       "      <td>260</td>\n",
       "      <td>259</td>\n",
       "      <td>70</td>\n",
       "      <td>9</td>\n",
       "      <td>0</td>\n",
       "      <td>49</td>\n",
       "      <td>5.444444</td>\n",
       "    </tr>\n",
       "    <tr>\n",
       "      <th>1</th>\n",
       "      <td>Attraction Enjoyer</td>\n",
       "      <td>1</td>\n",
       "      <td>258</td>\n",
       "      <td>257</td>\n",
       "      <td>70</td>\n",
       "      <td>8</td>\n",
       "      <td>0</td>\n",
       "      <td>113</td>\n",
       "      <td>14.125000</td>\n",
       "    </tr>\n",
       "    <tr>\n",
       "      <th>2</th>\n",
       "      <td>Relaxed Visitor</td>\n",
       "      <td>1</td>\n",
       "      <td>244</td>\n",
       "      <td>243</td>\n",
       "      <td>25</td>\n",
       "      <td>5</td>\n",
       "      <td>0</td>\n",
       "      <td>32</td>\n",
       "      <td>6.400000</td>\n",
       "    </tr>\n",
       "    <tr>\n",
       "      <th>3</th>\n",
       "      <td>All Day Park</td>\n",
       "      <td>1</td>\n",
       "      <td>514</td>\n",
       "      <td>513</td>\n",
       "      <td>40</td>\n",
       "      <td>15</td>\n",
       "      <td>1</td>\n",
       "      <td>212</td>\n",
       "      <td>14.133333</td>\n",
       "    </tr>\n",
       "    <tr>\n",
       "      <th>4</th>\n",
       "      <td>Activity Enjoyer</td>\n",
       "      <td>1</td>\n",
       "      <td>217</td>\n",
       "      <td>216</td>\n",
       "      <td>10</td>\n",
       "      <td>2</td>\n",
       "      <td>0</td>\n",
       "      <td>24</td>\n",
       "      <td>12.000000</td>\n",
       "    </tr>\n",
       "    <tr>\n",
       "      <th>...</th>\n",
       "      <td>...</td>\n",
       "      <td>...</td>\n",
       "      <td>...</td>\n",
       "      <td>...</td>\n",
       "      <td>...</td>\n",
       "      <td>...</td>\n",
       "      <td>...</td>\n",
       "      <td>...</td>\n",
       "      <td>...</td>\n",
       "    </tr>\n",
       "    <tr>\n",
       "      <th>38979</th>\n",
       "      <td>Relaxed Visitor</td>\n",
       "      <td>946</td>\n",
       "      <td>960</td>\n",
       "      <td>14</td>\n",
       "      <td>25</td>\n",
       "      <td>0</td>\n",
       "      <td>0</td>\n",
       "      <td>13</td>\n",
       "      <td>0.000000</td>\n",
       "    </tr>\n",
       "    <tr>\n",
       "      <th>38980</th>\n",
       "      <td>All Day Park</td>\n",
       "      <td>947</td>\n",
       "      <td>960</td>\n",
       "      <td>13</td>\n",
       "      <td>40</td>\n",
       "      <td>0</td>\n",
       "      <td>0</td>\n",
       "      <td>0</td>\n",
       "      <td>0.000000</td>\n",
       "    </tr>\n",
       "    <tr>\n",
       "      <th>38981</th>\n",
       "      <td>Relaxed Visitor</td>\n",
       "      <td>948</td>\n",
       "      <td>960</td>\n",
       "      <td>12</td>\n",
       "      <td>25</td>\n",
       "      <td>0</td>\n",
       "      <td>0</td>\n",
       "      <td>0</td>\n",
       "      <td>0.000000</td>\n",
       "    </tr>\n",
       "    <tr>\n",
       "      <th>38982</th>\n",
       "      <td>Activity Enjoyer</td>\n",
       "      <td>948</td>\n",
       "      <td>960</td>\n",
       "      <td>12</td>\n",
       "      <td>10</td>\n",
       "      <td>0</td>\n",
       "      <td>0</td>\n",
       "      <td>0</td>\n",
       "      <td>0.000000</td>\n",
       "    </tr>\n",
       "    <tr>\n",
       "      <th>38983</th>\n",
       "      <td>Average</td>\n",
       "      <td>948</td>\n",
       "      <td>960</td>\n",
       "      <td>12</td>\n",
       "      <td>50</td>\n",
       "      <td>0</td>\n",
       "      <td>0</td>\n",
       "      <td>0</td>\n",
       "      <td>0.000000</td>\n",
       "    </tr>\n",
       "  </tbody>\n",
       "</table>\n",
       "<p>38984 rows × 9 columns</p>\n",
       "</div>"
      ],
      "text/plain": [
       "                Archetype  arrival_time  departure_time  time_in_park  \\\n",
       "0      Attraction Enjoyer             1             260           259   \n",
       "1      Attraction Enjoyer             1             258           257   \n",
       "2         Relaxed Visitor             1             244           243   \n",
       "3            All Day Park             1             514           513   \n",
       "4        Activity Enjoyer             1             217           216   \n",
       "...                   ...           ...             ...           ...   \n",
       "38979     Relaxed Visitor           946             960            14   \n",
       "38980        All Day Park           947             960            13   \n",
       "38981     Relaxed Visitor           948             960            12   \n",
       "38982    Activity Enjoyer           948             960            12   \n",
       "38983             Average           948             960            12   \n",
       "\n",
       "       max_wait  attractions_experienced  fastpass_used  total_wait_time  \\\n",
       "0            70                        9              0               49   \n",
       "1            70                        8              0              113   \n",
       "2            25                        5              0               32   \n",
       "3            40                       15              1              212   \n",
       "4            10                        2              0               24   \n",
       "...         ...                      ...            ...              ...   \n",
       "38979        25                        0              0               13   \n",
       "38980        40                        0              0                0   \n",
       "38981        25                        0              0                0   \n",
       "38982        10                        0              0                0   \n",
       "38983        50                        0              0                0   \n",
       "\n",
       "       average_wait_time  \n",
       "0               5.444444  \n",
       "1              14.125000  \n",
       "2               6.400000  \n",
       "3              14.133333  \n",
       "4              12.000000  \n",
       "...                  ...  \n",
       "38979           0.000000  \n",
       "38980           0.000000  \n",
       "38981           0.000000  \n",
       "38982           0.000000  \n",
       "38983           0.000000  \n",
       "\n",
       "[38984 rows x 9 columns]"
      ]
     },
     "execution_count": 14,
     "metadata": {},
     "output_type": "execute_result"
    }
   ],
   "source": [
    "guest_data = []\n",
    "column_name = [\n",
    "    'Archetype',\n",
    "    'arrival_time',\n",
    "    'departure_time',\n",
    "    'time_in_park',\n",
    "    'max_wait',\n",
    "    'attractions_experienced',\n",
    "    'fastpass_used',\n",
    "    'total_wait_time',\n",
    "    'average_wait_time',\n",
    "    ]\n",
    "\n",
    "for guest in park.guests:\n",
    "    current_guest = []\n",
    "\n",
    "    current_guest.append(guest.archetype)\n",
    "    current_guest.append(guest.arrival_time)\n",
    "    current_guest.append(guest.departure_time)\n",
    "    current_guest.append(guest.departure_time - guest.arrival_time)\n",
    "    current_guest.append(guest.max_wait)\n",
    "    current_guest.append(guest.attractions_experienced)\n",
    "    current_guest.append(guest.fastpass_used)\n",
    "    current_guest.append(guest.total_wait_time)\n",
    "    if guest.attractions_experienced == 0:\n",
    "        current_guest.append(0)\n",
    "    else: \n",
    "        current_guest.append(guest.total_wait_time / guest.attractions_experienced)\n",
    "\n",
    "    guest_data.append(current_guest)\n",
    "\n",
    "guest_df = pd.DataFrame(guest_data, columns=column_name)\n",
    "# guest_df.to_csv(r'./datasets/DFP.csv')\n",
    "guest_df"
   ]
  },
  {
   "cell_type": "code",
   "execution_count": 15,
   "metadata": {},
   "outputs": [
    {
     "name": "stdout",
     "output_type": "stream",
     "text": [
      "Atracciones experimentadas promedio: 3.581212805253437\n",
      "Atracciones experimentadas desviación estandar: 2.825300516925964\n"
     ]
    },
    {
     "data": {
      "image/png": "[encoded data removed]",
      "text/plain": [
       "<Figure size 1188x684 with 1 Axes>"
      ]
     },
     "metadata": {
      "needs_background": "light"
     },
     "output_type": "display_data"
    }
   ],
   "source": [
    "heights = [0 for _ in range(np.max(guest_df['attractions_experienced'])+1)]\n",
    "labels = [i for i in range(np.max(guest_df['attractions_experienced'])+1)]\n",
    "attrExp = [guest.attractions_experienced for guest in park.guests]\n",
    "\n",
    "for guest in park.guests:\n",
    "    heights[guest.attractions_experienced] += 1\n",
    "\n",
    "fig = figure()\n",
    "fig.set_size_inches(16.5, 9.5)\n",
    "ax = fig.add_axes([0,0,1,1])\n",
    "ax.bar(labels, heights, color=\"#ff725e\");\n",
    "fig.suptitle('tracciones de los visitantes', fontsize = 20)\n",
    "xlabel('Número de Atracciones')\n",
    "ylabel('Densidad')\n",
    "\n",
    "print(f'Atracciones experimentadas promedio: {np.mean(attrExp)}')\n",
    "print(f'Atracciones experimentadas desviación estandar: {np.std(attrExp)}')"
   ]
  },
  {
   "cell_type": "code",
   "execution_count": 16,
   "metadata": {},
   "outputs": [
    {
     "name": "stdout",
     "output_type": "stream",
     "text": [
      "37.29686342484712\n",
      "(37.06305361811155, 37.53067323158268)\n",
      "32595\n",
      "125.0\n"
     ]
    },
    {
     "data": {
      "text/plain": [
       "Text(0, 0.5, 'Densidad')"
      ]
     },
     "execution_count": 16,
     "metadata": {},
     "output_type": "execute_result"
    },
    {
     "data": {
      "image/png": "[encoded data removed]",
      "text/plain": [
       "<Figure size 1188x684 with 1 Axes>"
      ]
     },
     "metadata": {
      "needs_background": "light"
     },
     "output_type": "display_data"
    }
   ],
   "source": [
    "avgWaitTime = []\n",
    "\n",
    "for guest in park.guests:\n",
    "    if guest.attractions_experienced == 0:\n",
    "        continue\n",
    "\n",
    "    avgWaitTime.append(guest.total_wait_time / guest.attractions_experienced)\n",
    "\n",
    "\n",
    "print(np.mean(avgWaitTime))\n",
    "print(st.t.interval(alpha=0.95, df=len(avgWaitTime)-1, loc=np.mean(avgWaitTime), scale=st.sem(avgWaitTime)))\n",
    "print(len(avgWaitTime))\n",
    "print(max(avgWaitTime))\n",
    "\n",
    "fig = figure()\n",
    "fig.set_size_inches(16.5, 9.5)\n",
    "hist(avgWaitTime, density=True, color=\"#ff725e\");\n",
    "fig.suptitle('Histograma: Tiempo de espera promedio', fontsize = 20)\n",
    "xlabel('Tiempo')\n",
    "ylabel('Densidad')"
   ]
  },
  {
   "cell_type": "code",
   "execution_count": 17,
   "metadata": {},
   "outputs": [
    {
     "data": {
      "text/html": [
       "<div>\n",
       "<style scoped>\n",
       "    .dataframe tbody tr th:only-of-type {\n",
       "        vertical-align: middle;\n",
       "    }\n",
       "\n",
       "    .dataframe tbody tr th {\n",
       "        vertical-align: top;\n",
       "    }\n",
       "\n",
       "    .dataframe thead th {\n",
       "        text-align: right;\n",
       "    }\n",
       "</style>\n",
       "<table border=\"1\" class=\"dataframe\">\n",
       "  <thead>\n",
       "    <tr style=\"text-align: right;\">\n",
       "      <th></th>\n",
       "      <th>Name</th>\n",
       "      <th>MaximunWaitTime</th>\n",
       "    </tr>\n",
       "  </thead>\n",
       "  <tbody>\n",
       "    <tr>\n",
       "      <th>0</th>\n",
       "      <td>DINOSAUR</td>\n",
       "      <td>30</td>\n",
       "    </tr>\n",
       "    <tr>\n",
       "      <th>1</th>\n",
       "      <td>Expedition Everest</td>\n",
       "      <td>20</td>\n",
       "    </tr>\n",
       "    <tr>\n",
       "      <th>2</th>\n",
       "      <td>Flight of Passage</td>\n",
       "      <td>50</td>\n",
       "    </tr>\n",
       "    <tr>\n",
       "      <th>3</th>\n",
       "      <td>Kali River Rapids</td>\n",
       "      <td>15</td>\n",
       "    </tr>\n",
       "    <tr>\n",
       "      <th>4</th>\n",
       "      <td>Kilimanjaro Safaris</td>\n",
       "      <td>30</td>\n",
       "    </tr>\n",
       "    <tr>\n",
       "      <th>5</th>\n",
       "      <td>Na'vi River Journey</td>\n",
       "      <td>40</td>\n",
       "    </tr>\n",
       "    <tr>\n",
       "      <th>6</th>\n",
       "      <td>TriceraTop Spin</td>\n",
       "      <td>0</td>\n",
       "    </tr>\n",
       "  </tbody>\n",
       "</table>\n",
       "</div>"
      ],
      "text/plain": [
       "                  Name  MaximunWaitTime\n",
       "0             DINOSAUR               30\n",
       "1   Expedition Everest               20\n",
       "2    Flight of Passage               50\n",
       "3    Kali River Rapids               15\n",
       "4  Kilimanjaro Safaris               30\n",
       "5  Na'vi River Journey               40\n",
       "6      TriceraTop Spin                0"
      ]
     },
     "execution_count": 17,
     "metadata": {},
     "output_type": "execute_result"
    }
   ],
   "source": [
    "attr_wait_time = [[attr.name, attr.queue.top_wait_time] for attr in park.attractions]\n",
    "attr_df = pd.DataFrame(attr_wait_time, columns=[\"Name\", \"MaximunWaitTime\"])\n",
    "attr_df"
   ]
  },
  {
   "cell_type": "code",
   "execution_count": 18,
   "metadata": {},
   "outputs": [
    {
     "data": {
      "text/html": [
       "<div>\n",
       "<style scoped>\n",
       "    .dataframe tbody tr th:only-of-type {\n",
       "        vertical-align: middle;\n",
       "    }\n",
       "\n",
       "    .dataframe tbody tr th {\n",
       "        vertical-align: top;\n",
       "    }\n",
       "\n",
       "    .dataframe thead th {\n",
       "        text-align: right;\n",
       "    }\n",
       "</style>\n",
       "<table border=\"1\" class=\"dataframe\">\n",
       "  <thead>\n",
       "    <tr style=\"text-align: right;\">\n",
       "      <th></th>\n",
       "      <th>Name</th>\n",
       "      <th>MaximunWaitTime</th>\n",
       "    </tr>\n",
       "  </thead>\n",
       "  <tbody>\n",
       "    <tr>\n",
       "      <th>0</th>\n",
       "      <td>DINOSAUR</td>\n",
       "      <td>0</td>\n",
       "    </tr>\n",
       "    <tr>\n",
       "      <th>1</th>\n",
       "      <td>Expedition Everest</td>\n",
       "      <td>0</td>\n",
       "    </tr>\n",
       "    <tr>\n",
       "      <th>2</th>\n",
       "      <td>Flight of Passage</td>\n",
       "      <td>0</td>\n",
       "    </tr>\n",
       "    <tr>\n",
       "      <th>3</th>\n",
       "      <td>Kali River Rapids</td>\n",
       "      <td>0</td>\n",
       "    </tr>\n",
       "    <tr>\n",
       "      <th>4</th>\n",
       "      <td>Kilimanjaro Safaris</td>\n",
       "      <td>0</td>\n",
       "    </tr>\n",
       "    <tr>\n",
       "      <th>5</th>\n",
       "      <td>Na'vi River Journey</td>\n",
       "      <td>0</td>\n",
       "    </tr>\n",
       "    <tr>\n",
       "      <th>6</th>\n",
       "      <td>TriceraTop Spin</td>\n",
       "      <td>0</td>\n",
       "    </tr>\n",
       "  </tbody>\n",
       "</table>\n",
       "</div>"
      ],
      "text/plain": [
       "                  Name  MaximunWaitTime\n",
       "0             DINOSAUR                0\n",
       "1   Expedition Everest                0\n",
       "2    Flight of Passage                0\n",
       "3    Kali River Rapids                0\n",
       "4  Kilimanjaro Safaris                0\n",
       "5  Na'vi River Journey                0\n",
       "6      TriceraTop Spin                0"
      ]
     },
     "execution_count": 18,
     "metadata": {},
     "output_type": "execute_result"
    }
   ],
   "source": [
    "attr_alt_wait_time = [[attr.name, attr.alt_queue.top_wait_time] for attr in park.attractions]\n",
    "attr_df_alt = pd.DataFrame(attr_alt_wait_time, columns=[\"Name\", \"MaximunWaitTime\"])\n",
    "attr_df_alt"
   ]
  },
  {
   "cell_type": "code",
   "execution_count": 19,
   "metadata": {},
   "outputs": [
    {
     "name": "stdout",
     "output_type": "stream",
     "text": [
      "id: 911  arvTime: 45 things_done: ['Expedition Everest', 'Flight of Passage', 'DINOSAUR', 'DINOSAUR', 'TriceraTop Spin', \"Na'vi River Journey\", 'Flight of Passage', 'Flight of Passage', 'Flight of Passage', 'Expedition Everest', 'Flight of Passage', 'Kilimanjaro Safaris', 'DINOSAUR', 'Kilimanjaro Safaris', 'DINOSAUR', 'DINOSAUR', 'Kilimanjaro Safaris', 'Flight of Passage', 'Flight of Passage', 'Expedition Everest', 'Flight of Passage'] attrExp: 21\n",
      "queues_joined: 21 total_wait_time: 172 archetype: Attraction Enjoyer\n"
     ]
    }
   ],
   "source": [
    "[guest for guest in park.guests if guest.attractions_experienced != 0 and guest.attractions_experienced == max(labels)][0].report()\n",
    "\n"
   ]
  },
  {
   "cell_type": "code",
   "execution_count": 20,
   "metadata": {},
   "outputs": [
    {
     "name": "stdout",
     "output_type": "stream",
     "text": [
      "id: 33593  arvTime: 646 things_done: [\"Na'vi River Journey\"] attrExp: 1\n",
      "queues_joined: 2 total_wait_time: 125 archetype: Attraction Enjoyer\n"
     ]
    },
    {
     "data": {
      "text/plain": [
       "1477"
      ]
     },
     "execution_count": 20,
     "metadata": {},
     "output_type": "execute_result"
    }
   ],
   "source": [
    "[guest for guest in park.guests if guest.attractions_experienced != 0 and guest.total_wait_time / guest.attractions_experienced == max(avgWaitTime)][0].report()\n",
    "\n",
    "park.attractions[0].queue.max_in_queue\n"
   ]
  },
  {
   "cell_type": "code",
   "execution_count": 21,
   "metadata": {},
   "outputs": [
    {
     "data": {
      "text/plain": [
       "6389"
      ]
     },
     "execution_count": 21,
     "metadata": {},
     "output_type": "execute_result"
    }
   ],
   "source": [
    "len([guest for guest in park.guests if guest.attractions_experienced == 0])"
   ]
  }
 ],
 "metadata": {
  "interpreter": {
   "hash": "3bea5e62536b457a2c0e293db0957b2f3e7b164e736797e6da376d1c1af548df"
  },
  "kernelspec": {
   "display_name": "Python 3.9.1 ('base')",
   "language": "python",
   "name": "python3"
  },
  "language_info": {
   "codemirror_mode": {
    "name": "ipython",
    "version": 3
   },
   "file_extension": ".py",
   "mimetype": "text/x-python",
   "name": "python",
   "nbconvert_exporter": "python",
   "pygments_lexer": "ipython3",
   "version": "3.9.1"
  },
  "orig_nbformat": 4
 },
 "nbformat": 4,
 "nbformat_minor": 2
}
