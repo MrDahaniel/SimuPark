{
 "cells": [
  {
   "cell_type": "markdown",
   "metadata": {},
   "source": [
    "# SimuPark: Un parque simulado\n",
    "\n",
    "Desarrollado por: \n",
    "> Daniel David Delgado Cervantes - 2182066"
   ]
  },
  {
   "cell_type": "code",
   "execution_count": 33,
   "metadata": {},
   "outputs": [
    {
     "name": "stdout",
     "output_type": "stream",
     "text": [
      "59.03734782801262\n"
     ]
    },
    {
     "data": {
      "image/png": "[encoded data removed]",
      "text/plain": [
       "<Figure size 432x288 with 1 Axes>"
      ]
     },
     "metadata": {
      "needs_background": "light"
     },
     "output_type": "display_data"
    }
   ],
   "source": [
    "from matplotlib.pyplot import plot, hist\n",
    "import numpy as np\n",
    "from scipy.special import gamma, factorial\n",
    "import pandas as pd\n",
    "\n",
    "\n",
    "x = np.linspace(0, 11, 11*60)\n",
    "k = 3\n",
    "fn = lambda x, k: (np.power(x + 30/60, k-1) * np.exp(-x - 30/60) / gamma(k))\n",
    "print(sum(fn(x, k)))\n",
    "\n",
    "plot(x, fn(x,k));"
   ]
  },
  {
   "cell_type": "code",
   "execution_count": 39,
   "metadata": {},
   "outputs": [
    {
     "name": "stdout",
     "output_type": "stream",
     "text": [
      "7852\n",
      "['Walk15', 'Walk10', 'ShopGifts', 'EatRestaurant', 'BathroomBreak', 'TakePictures']\n",
      "['Dropper', 'Tornado', 'BumpCars', 'SlowRiver', 'StarWarsRide', 'SpaceMountain']\n",
      "['Tourist']\n"
     ]
    },
    {
     "data": {
      "image/png": "[encoded data removed]",
      "text/plain": [
       "<Figure size 432x288 with 1 Axes>"
      ]
     },
     "metadata": {
      "needs_background": "light"
     },
     "output_type": "display_data"
    }
   ],
   "source": [
    "from simuPark.park import Activity, Attraction, Park\n",
    "from simuPark.person import Person, Archetype\n",
    "import random\n",
    "\n",
    "# np.random.seed(41)\n",
    "\n",
    "park = Park(\n",
    "    function=fn\n",
    ")\n",
    "\n",
    "park.startDayBase(100000)\n",
    "\n",
    "print(len(park.guests))\n",
    "\n",
    "y = [guest.arrivalTime for guest in park.guests]\n",
    "\n",
    "hist(y, bins=40);\n",
    "\n",
    "print([i.name for i in park.activities])\n",
    "print([i.name for i in park.attractions])\n",
    "print([i.name for i in park.guestArchetypes])"
   ]
  },
  {
   "cell_type": "code",
   "execution_count": 40,
   "metadata": {},
   "outputs": [
    {
     "data": {
      "text/html": [
       "<div>\n",
       "<style scoped>\n",
       "    .dataframe tbody tr th:only-of-type {\n",
       "        vertical-align: middle;\n",
       "    }\n",
       "\n",
       "    .dataframe tbody tr th {\n",
       "        vertical-align: top;\n",
       "    }\n",
       "\n",
       "    .dataframe thead th {\n",
       "        text-align: right;\n",
       "    }\n",
       "</style>\n",
       "<table border=\"1\" class=\"dataframe\">\n",
       "  <thead>\n",
       "    <tr style=\"text-align: right;\">\n",
       "      <th></th>\n",
       "      <th>arrivalTime</th>\n",
       "      <th>departureTime</th>\n",
       "      <th>timeInPark</th>\n",
       "      <th>maxWait</th>\n",
       "      <th>attractionsExperienced</th>\n",
       "      <th>totalWaitTime</th>\n",
       "      <th>averageWaitTime</th>\n",
       "    </tr>\n",
       "  </thead>\n",
       "  <tbody>\n",
       "    <tr>\n",
       "      <th>0</th>\n",
       "      <td>1</td>\n",
       "      <td>557</td>\n",
       "      <td>556</td>\n",
       "      <td>43</td>\n",
       "      <td>11</td>\n",
       "      <td>193</td>\n",
       "      <td>17.545455</td>\n",
       "    </tr>\n",
       "    <tr>\n",
       "      <th>1</th>\n",
       "      <td>1</td>\n",
       "      <td>409</td>\n",
       "      <td>408</td>\n",
       "      <td>88</td>\n",
       "      <td>6</td>\n",
       "      <td>205</td>\n",
       "      <td>34.166667</td>\n",
       "    </tr>\n",
       "    <tr>\n",
       "      <th>2</th>\n",
       "      <td>1</td>\n",
       "      <td>594</td>\n",
       "      <td>593</td>\n",
       "      <td>117</td>\n",
       "      <td>17</td>\n",
       "      <td>333</td>\n",
       "      <td>19.588235</td>\n",
       "    </tr>\n",
       "    <tr>\n",
       "      <th>3</th>\n",
       "      <td>1</td>\n",
       "      <td>443</td>\n",
       "      <td>442</td>\n",
       "      <td>56</td>\n",
       "      <td>12</td>\n",
       "      <td>282</td>\n",
       "      <td>23.500000</td>\n",
       "    </tr>\n",
       "    <tr>\n",
       "      <th>4</th>\n",
       "      <td>1</td>\n",
       "      <td>479</td>\n",
       "      <td>478</td>\n",
       "      <td>41</td>\n",
       "      <td>13</td>\n",
       "      <td>178</td>\n",
       "      <td>13.692308</td>\n",
       "    </tr>\n",
       "    <tr>\n",
       "      <th>...</th>\n",
       "      <td>...</td>\n",
       "      <td>...</td>\n",
       "      <td>...</td>\n",
       "      <td>...</td>\n",
       "      <td>...</td>\n",
       "      <td>...</td>\n",
       "      <td>...</td>\n",
       "    </tr>\n",
       "    <tr>\n",
       "      <th>7847</th>\n",
       "      <td>390</td>\n",
       "      <td>818</td>\n",
       "      <td>428</td>\n",
       "      <td>106</td>\n",
       "      <td>4</td>\n",
       "      <td>165</td>\n",
       "      <td>41.250000</td>\n",
       "    </tr>\n",
       "    <tr>\n",
       "      <th>7848</th>\n",
       "      <td>390</td>\n",
       "      <td>839</td>\n",
       "      <td>449</td>\n",
       "      <td>34</td>\n",
       "      <td>1</td>\n",
       "      <td>37</td>\n",
       "      <td>37.000000</td>\n",
       "    </tr>\n",
       "    <tr>\n",
       "      <th>7849</th>\n",
       "      <td>390</td>\n",
       "      <td>695</td>\n",
       "      <td>305</td>\n",
       "      <td>85</td>\n",
       "      <td>6</td>\n",
       "      <td>224</td>\n",
       "      <td>37.333333</td>\n",
       "    </tr>\n",
       "    <tr>\n",
       "      <th>7850</th>\n",
       "      <td>390</td>\n",
       "      <td>692</td>\n",
       "      <td>302</td>\n",
       "      <td>49</td>\n",
       "      <td>4</td>\n",
       "      <td>190</td>\n",
       "      <td>47.500000</td>\n",
       "    </tr>\n",
       "    <tr>\n",
       "      <th>7851</th>\n",
       "      <td>390</td>\n",
       "      <td>788</td>\n",
       "      <td>398</td>\n",
       "      <td>87</td>\n",
       "      <td>6</td>\n",
       "      <td>216</td>\n",
       "      <td>36.000000</td>\n",
       "    </tr>\n",
       "  </tbody>\n",
       "</table>\n",
       "<p>7852 rows × 7 columns</p>\n",
       "</div>"
      ],
      "text/plain": [
       "      arrivalTime  departureTime  timeInPark  maxWait  attractionsExperienced  \\\n",
       "0               1            557         556       43                      11   \n",
       "1               1            409         408       88                       6   \n",
       "2               1            594         593      117                      17   \n",
       "3               1            443         442       56                      12   \n",
       "4               1            479         478       41                      13   \n",
       "...           ...            ...         ...      ...                     ...   \n",
       "7847          390            818         428      106                       4   \n",
       "7848          390            839         449       34                       1   \n",
       "7849          390            695         305       85                       6   \n",
       "7850          390            692         302       49                       4   \n",
       "7851          390            788         398       87                       6   \n",
       "\n",
       "      totalWaitTime  averageWaitTime  \n",
       "0               193        17.545455  \n",
       "1               205        34.166667  \n",
       "2               333        19.588235  \n",
       "3               282        23.500000  \n",
       "4               178        13.692308  \n",
       "...             ...              ...  \n",
       "7847            165        41.250000  \n",
       "7848             37        37.000000  \n",
       "7849            224        37.333333  \n",
       "7850            190        47.500000  \n",
       "7851            216        36.000000  \n",
       "\n",
       "[7852 rows x 7 columns]"
      ]
     },
     "execution_count": 40,
     "metadata": {},
     "output_type": "execute_result"
    }
   ],
   "source": [
    "guestData = []\n",
    "columnName = [\n",
    "    'arrivalTime',\n",
    "    'departureTime',\n",
    "    'timeInPark',\n",
    "    'maxWait',\n",
    "    'attractionsExperienced',\n",
    "    'totalWaitTime',\n",
    "    'averageWaitTime',\n",
    "    # 'thingsDone',\n",
    "    ]\n",
    "for guest in park.guests:\n",
    "    curGuest = []\n",
    "\n",
    "    curGuest.append(guest.arrivalTime)\n",
    "    curGuest.append(guest.departureTime)\n",
    "    curGuest.append(guest.departureTime - guest.arrivalTime)\n",
    "    curGuest.append(guest.maxWait)\n",
    "    curGuest.append(guest.attractionsExperienced)\n",
    "    curGuest.append(guest.totalWaitTime)\n",
    "    if guest.attractionsExperienced == 0:\n",
    "        curGuest.append(0)\n",
    "    else: \n",
    "        curGuest.append(guest.totalWaitTime / guest.attractionsExperienced)\n",
    "    # curGuest.append(guest.thingsDone)\n",
    "\n",
    "    guestData.append(curGuest)\n",
    "\n",
    "guestDF = pd.DataFrame(guestData, columns=columnName)\n",
    "guestDF"
   ]
  },
  {
   "cell_type": "code",
   "execution_count": 36,
   "metadata": {},
   "outputs": [
    {
     "data": {
      "image/png": "[encoded data removed]",
      "text/plain": [
       "<Figure size 432x288 with 1 Axes>"
      ]
     },
     "metadata": {
      "needs_background": "light"
     },
     "output_type": "display_data"
    }
   ],
   "source": [
    "attrExp = [guest.attractionsExperienced for guest in park.guests]\n",
    "attrExp\n",
    "hist(attrExp, bins=12, density=True);"
   ]
  },
  {
   "cell_type": "code",
   "execution_count": 37,
   "metadata": {},
   "outputs": [
    {
     "name": "stdout",
     "output_type": "stream",
     "text": [
      "34.4957767876566\n"
     ]
    },
    {
     "data": {
      "image/png": "[encoded data removed]",
      "text/plain": [
       "<Figure size 432x288 with 1 Axes>"
      ]
     },
     "metadata": {
      "needs_background": "light"
     },
     "output_type": "display_data"
    }
   ],
   "source": [
    "avgWaitTime = []\n",
    "\n",
    "for guest in park.guests:\n",
    "    if guest.attractionsExperienced == 0:\n",
    "        continue\n",
    "\n",
    "    avgWaitTime.append(guest.totalWaitTime / guest.attractionsExperienced)\n",
    "\n",
    "print(np.mean(avgWaitTime))\n",
    "hist(avgWaitTime, density=True);\n",
    "\n"
   ]
  },
  {
   "cell_type": "code",
   "execution_count": 38,
   "metadata": {},
   "outputs": [
    {
     "data": {
      "text/html": [
       "<div>\n",
       "<style scoped>\n",
       "    .dataframe tbody tr th:only-of-type {\n",
       "        vertical-align: middle;\n",
       "    }\n",
       "\n",
       "    .dataframe tbody tr th {\n",
       "        vertical-align: top;\n",
       "    }\n",
       "\n",
       "    .dataframe thead th {\n",
       "        text-align: right;\n",
       "    }\n",
       "</style>\n",
       "<table border=\"1\" class=\"dataframe\">\n",
       "  <thead>\n",
       "    <tr style=\"text-align: right;\">\n",
       "      <th></th>\n",
       "      <th>Name</th>\n",
       "      <th>MaximunWaitTime</th>\n",
       "    </tr>\n",
       "  </thead>\n",
       "  <tbody>\n",
       "    <tr>\n",
       "      <th>0</th>\n",
       "      <td>Dropper</td>\n",
       "      <td>20</td>\n",
       "    </tr>\n",
       "    <tr>\n",
       "      <th>1</th>\n",
       "      <td>Tornado</td>\n",
       "      <td>20</td>\n",
       "    </tr>\n",
       "    <tr>\n",
       "      <th>2</th>\n",
       "      <td>BumpCars</td>\n",
       "      <td>0</td>\n",
       "    </tr>\n",
       "    <tr>\n",
       "      <th>3</th>\n",
       "      <td>SlowRiver</td>\n",
       "      <td>0</td>\n",
       "    </tr>\n",
       "    <tr>\n",
       "      <th>4</th>\n",
       "      <td>StarWarsRide</td>\n",
       "      <td>35</td>\n",
       "    </tr>\n",
       "    <tr>\n",
       "      <th>5</th>\n",
       "      <td>SpaceMountain</td>\n",
       "      <td>30</td>\n",
       "    </tr>\n",
       "  </tbody>\n",
       "</table>\n",
       "</div>"
      ],
      "text/plain": [
       "            Name  MaximunWaitTime\n",
       "0        Dropper               20\n",
       "1        Tornado               20\n",
       "2       BumpCars                0\n",
       "3      SlowRiver                0\n",
       "4   StarWarsRide               35\n",
       "5  SpaceMountain               30"
      ]
     },
     "execution_count": 38,
     "metadata": {},
     "output_type": "execute_result"
    }
   ],
   "source": [
    "attrWaitTime = [[attr.name, attr.queue.topWaitTime] for attr in park.attractions]\n",
    "attrDF = pd.DataFrame(attrWaitTime, columns=[\"Name\", \"MaximunWaitTime\"])\n",
    "attrDF"
   ]
  }
 ],
 "metadata": {
  "interpreter": {
   "hash": "3bea5e62536b457a2c0e293db0957b2f3e7b164e736797e6da376d1c1af548df"
  },
  "kernelspec": {
   "display_name": "Python 3.9.1 64-bit ('base': conda)",
   "language": "python",
   "name": "python3"
  },
  "language_info": {
   "codemirror_mode": {
    "name": "ipython",
    "version": 3
   },
   "file_extension": ".py",
   "mimetype": "text/x-python",
   "name": "python",
   "nbconvert_exporter": "python",
   "pygments_lexer": "ipython3",
   "version": "3.9.1"
  },
  "orig_nbformat": 4
 },
 "nbformat": 4,
 "nbformat_minor": 2
}
